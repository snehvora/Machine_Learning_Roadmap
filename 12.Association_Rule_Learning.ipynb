{
 "cells": [
  {
   "cell_type": "markdown",
   "metadata": {},
   "source": [
    "<h2>Association Rule Learning</h2>\n",
    "\n",
    "Association rule learning is a type of unsupervised learning technique that checks for the dependency of one data item on another data item and maps accordingly so that it can be more profitable. It tries to find some interesting relations or associations among the variables of dataset. It is based on different rules to discover the interesting relations between variables in the database.\n",
    "\n",
    "The association rule learning is one of the very important concepts of machine learning, and it is employed in Market Basket analysis, Web usage mining, continuous production, etc. Here market basket analysis is a technique used by the various big retailer to discover the associations between items. We can understand it by taking an example of a supermarket, as in a supermarket, all products that are purchased together are put together."
   ]
  },
  {
   "cell_type": "markdown",
   "metadata": {},
   "source": [
    "<h4>How does Association Rule Learning work?</h4>\n",
    "\n",
    "<b>Association rule learning works on the concept of If and Else Statement, such as if A then B.</b>"
   ]
  },
  {
   "cell_type": "markdown",
   "metadata": {},
   "source": [
    "Here the If element is called antecedent, and then statement is called as Consequent. These types of relationships where we can find out some association or relation between two items is known as single cardinality. It is all about creating rules, and if the number of items increases, then cardinality also increases accordingly. So, to measure the associations between thousands of data items, there are several metrics. These metrics are given below:\n",
    "\n",
    "- Support </br>\n",
    "- Confidence</br>\n",
    "- Lift</br>"
   ]
  },
  {
   "cell_type": "markdown",
   "metadata": {},
   "source": [
    "<h4>Support</h4>\n",
    "Support is the frequency of A or how frequently an item appears in the dataset. It is defined as the fraction of the transaction T that contains the itemset X. If there are X datasets, then for transactions T, it can be written as:</br>\n",
    "</br>\n",
    "<img src=\"https://static.javatpoint.com/tutorial/machine-learning/images/association-rule-learning3.png\">\n",
    "\n",
    "\n",
    "<h4>Confidence</h4>\n",
    "Confidence indicates how often the rule has been found to be true. Or how often the items X and Y occur together in the dataset when the occurrence of X is already given. It is the ratio of the transaction that contains X and Y to the number of records that contain X.\n",
    "</br></br>\n",
    "<img src=\"https://static.javatpoint.com/tutorial/machine-learning/images/association-rule-learning4.png\">\n",
    "</br>\n",
    "<h4>Lift</h4>\n",
    "It is the strength of any rule, which can be defined as below formula:\n",
    "</br></br>\n",
    "<img src=\"https://static.javatpoint.com/tutorial/machine-learning/images/association-rule-learning5.png\">\n",
    "</br></br>\n",
    "It is the ratio of the observed support measure and expected support if X and Y are independent of each other. It has three possible values:\n",
    "\n",
    "- If Lift= 1: The probability of occurrence of antecedent and consequent is independent of each other.</br>\n",
    "- Lift>1: It determines the degree to which the two itemsets are dependent to each other.</br>\n",
    "- Lift<1: It tells us that one item is a substitute for other items, which means one item has a negative effect on another.</br>"
   ]
  }
 ],
 "metadata": {
  "kernelspec": {
   "display_name": "Python 3.7.9 64-bit",
   "language": "python",
   "name": "python3"
  },
  "language_info": {
   "name": "python",
   "version": "3.7.9 (v3.7.9:13c94747c7, Aug 15 2020, 01:31:08) \n[Clang 6.0 (clang-600.0.57)]"
  },
  "orig_nbformat": 4,
  "vscode": {
   "interpreter": {
    "hash": "aee8b7b246df8f9039afb4144a1f6fd8d2ca17a180786b69acc140d282b71a49"
   }
  }
 },
 "nbformat": 4,
 "nbformat_minor": 2
}
