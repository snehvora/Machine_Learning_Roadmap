{
  "nbformat": 4,
  "nbformat_minor": 0,
  "metadata": {
    "colab": {
      "name": "CNN_cifar10.ipynb",
      "provenance": [],
      "collapsed_sections": []
    },
    "kernelspec": {
      "display_name": "Python 3",
      "name": "python3"
    }
  },
  "cells": [
    {
      "cell_type": "code",
      "metadata": {
        "id": "27X6RM_AS_mF"
      },
      "source": [
        "import tensorflow as tf\n",
        "import numpy as np\n",
        "from tensorflow.keras.layers import Input,Dense,Dropout,Flatten,Conv2D,MaxPooling2D,BatchNormalization\n",
        "from tensorflow.keras.models import Model\n",
        "from tensorflow.keras.preprocessing.image import ImageDataGenerator"
      ],
      "execution_count": null,
      "outputs": []
    },
    {
      "cell_type": "code",
      "metadata": {
        "id": "7qH6-FLKPA2l"
      },
      "source": [
        ""
      ],
      "execution_count": null,
      "outputs": []
    },
    {
      "cell_type": "code",
      "metadata": {
        "id": "GkAFmW3sTPhL"
      },
      "source": [
        "cifar10=tf.keras.datasets.cifar10\n",
        "(x_train,y_train),(x_test,y_test)=cifar10.load_data()"
      ],
      "execution_count": null,
      "outputs": []
    },
    {
      "cell_type": "code",
      "metadata": {
        "id": "-FbKjbQXUK2y"
      },
      "source": [
        "x_train,x_test=x_train/225,x_test/225"
      ],
      "execution_count": null,
      "outputs": []
    },
    {
      "cell_type": "code",
      "metadata": {
        "colab": {
          "base_uri": "https://localhost:8080/"
        },
        "id": "tXsJPxwdVI1G",
        "outputId": "94ce5c59-9429-4450-8fea-305532d6d7d9"
      },
      "source": [
        "K=len(set(y_train.flatten()))\n",
        "K"
      ],
      "execution_count": null,
      "outputs": [
        {
          "output_type": "execute_result",
          "data": {
            "text/plain": [
              "10"
            ]
          },
          "metadata": {
            "tags": []
          },
          "execution_count": 4
        }
      ]
    },
    {
      "cell_type": "code",
      "metadata": {
        "colab": {
          "background_save": true,
          "base_uri": "https://localhost:8080/"
        },
        "id": "wDPSyjCWVQZP",
        "outputId": "35976bc6-de79-4fae-e5a1-6080ac7054ac"
      },
      "source": [
        "i=Input(shape=x_train[0].shape)\n",
        "#convolution layer \n",
        "x=Conv2D(32,(3,3),activation='relu',padding='same')(i)\n",
        "#pooling\n",
        "x=MaxPooling2D((2,2))(x)\n",
        "#Batch Normalization\n",
        "x=BatchNormalization()(x)\n",
        "#convolution layer \n",
        "x=Conv2D(64,(3,3),activation='relu',padding='same')(x)\n",
        "#pooling\n",
        "x=MaxPooling2D((2,2))(x)\n",
        "#Batch Normalization\n",
        "x=BatchNormalization()(x)\n",
        "#convolution layer \n",
        "x=Conv2D(32,(3,3),activation='relu',padding='same')(x)\n",
        "#pooling\n",
        "x=MaxPooling2D((2,2))(x)\n",
        "#Batch Normalization\n",
        "x=BatchNormalization()(x)\n",
        "#flatten layer\n",
        "x=Flatten()(x)\n",
        "#drop out some data\n",
        "x=Dropout(0.2)(x)\n",
        "#Dense layer\n",
        "x=Dense(512,activation='relu')(x)\n",
        "x=Dropout(0.2)(x)\n",
        "x=Dense(K,activation='softmax')(x)\n",
        "model=Model(i,x)\n",
        "\n",
        "model.compile(optimizer='adam',\n",
        "              loss='sparse_categorical_crossentropy',\n",
        "              metrics=['accuracy'])\n",
        "\n",
        "r=model.fit(x_train,y_train,validation_data=(x_test,y_test),epochs=15)"
      ],
      "execution_count": null,
      "outputs": [
        {
          "output_type": "stream",
          "text": [
            "Epoch 1/15\n",
            "1563/1563 [==============================] - 116s 74ms/step - loss: 1.5730 - accuracy: 0.4517 - val_loss: 1.0486 - val_accuracy: 0.6258\n",
            "Epoch 2/15\n",
            "1563/1563 [==============================] - 113s 72ms/step - loss: 0.9789 - accuracy: 0.6560 - val_loss: 0.9348 - val_accuracy: 0.6784\n",
            "Epoch 3/15\n",
            "1563/1563 [==============================] - 110s 70ms/step - loss: 0.8163 - accuracy: 0.7154 - val_loss: 1.1057 - val_accuracy: 0.6204\n",
            "Epoch 4/15\n",
            "1563/1563 [==============================] - 109s 70ms/step - loss: 0.7329 - accuracy: 0.7426 - val_loss: 0.7880 - val_accuracy: 0.7280\n",
            "Epoch 5/15\n",
            "1563/1563 [==============================] - 109s 70ms/step - loss: 0.6389 - accuracy: 0.7768 - val_loss: 0.7545 - val_accuracy: 0.7408\n",
            "Epoch 6/15\n",
            "1563/1563 [==============================] - 117s 75ms/step - loss: 0.5870 - accuracy: 0.7919 - val_loss: 0.8521 - val_accuracy: 0.7117\n",
            "Epoch 7/15\n",
            "1563/1563 [==============================] - 110s 70ms/step - loss: 0.5346 - accuracy: 0.8136 - val_loss: 0.6725 - val_accuracy: 0.7727\n",
            "Epoch 8/15\n",
            "1563/1563 [==============================] - 110s 70ms/step - loss: 0.4889 - accuracy: 0.8304 - val_loss: 0.7627 - val_accuracy: 0.7498\n",
            "Epoch 9/15\n",
            "1563/1563 [==============================] - 111s 71ms/step - loss: 0.4515 - accuracy: 0.8415 - val_loss: 0.7025 - val_accuracy: 0.7595\n",
            "Epoch 10/15\n",
            "1563/1563 [==============================] - 109s 70ms/step - loss: 0.4183 - accuracy: 0.8505 - val_loss: 0.6864 - val_accuracy: 0.7743\n",
            "Epoch 11/15\n",
            "1563/1563 [==============================] - 111s 71ms/step - loss: 0.3829 - accuracy: 0.8644 - val_loss: 0.9003 - val_accuracy: 0.7089\n",
            "Epoch 12/15\n",
            "1563/1563 [==============================] - 110s 70ms/step - loss: 0.3780 - accuracy: 0.8685 - val_loss: 0.6825 - val_accuracy: 0.7754\n",
            "Epoch 13/15\n",
            "1563/1563 [==============================] - 111s 71ms/step - loss: 0.3454 - accuracy: 0.8775 - val_loss: 0.7175 - val_accuracy: 0.7639\n",
            "Epoch 14/15\n",
            "1563/1563 [==============================] - 112s 72ms/step - loss: 0.3372 - accuracy: 0.8792 - val_loss: 0.7983 - val_accuracy: 0.7519\n",
            "Epoch 15/15\n",
            "1563/1563 [==============================] - 112s 72ms/step - loss: 0.3126 - accuracy: 0.8915 - val_loss: 0.7924 - val_accuracy: 0.7609\n"
          ],
          "name": "stdout"
        }
      ]
    },
    {
      "cell_type": "code",
      "metadata": {
        "id": "rkEwW_buT7zx"
      },
      "source": [
        "data_generator=ImageDataGenerator(horizontal_flip=True,\n",
        "                                  width_shift_range=0.1,\n",
        "                                  height_shift_range=0.1)\n",
        "train_datagen=data_generator.flow(x_train,y_train,batch_size=32)\n",
        "print(len(train_datagen))\n",
        "steps_per_epoch=x_train.shape[0]\n",
        "print(steps_per_epoch)\n",
        "\n",
        "\n",
        "r=model.fit_generator(train_datagen,steps_per_epoch=steps_per_epoch,epochs=10)"
      ],
      "execution_count": null,
      "outputs": []
    },
    {
      "cell_type": "code",
      "metadata": {
        "colab": {
          "base_uri": "https://localhost:8080/",
          "height": 284
        },
        "id": "5yqXUgw7kIE4",
        "outputId": "4c5a604a-daab-4824-a70e-002293f10ca1"
      },
      "source": [
        "import matplotlib.pyplot as plt\n",
        "plt.plot(r.history['loss'],label='loss')\n",
        "plt.legend()"
      ],
      "execution_count": null,
      "outputs": [
        {
          "output_type": "execute_result",
          "data": {
            "text/plain": [
              "<matplotlib.legend.Legend at 0x7fe875e3df60>"
            ]
          },
          "metadata": {
            "tags": []
          },
          "execution_count": 48
        },
        {
          "output_type": "display_data",
          "data": {
            "image/png": "[encoded data removed]",
            "text/plain": [
              "<Figure size 432x288 with 1 Axes>"
            ]
          },
          "metadata": {
            "tags": []
          }
        }
      ]
    },
    {
      "cell_type": "code",
      "metadata": {
        "colab": {
          "base_uri": "https://localhost:8080/",
          "height": 285
        },
        "id": "0r8Yb_pnmnhm",
        "outputId": "19f247b8-1855-4982-9f12-5b3d27ec946a"
      },
      "source": [
        "\n",
        "\n",
        "\n",
        "plt.plot(r.history['accuracy'],label='accuracy')\n",
        "plt.plot(r.history['val_accuracy'],label='val_accuracy')\n",
        "plt.legend()"
      ],
      "execution_count": null,
      "outputs": [
        {
          "output_type": "execute_result",
          "data": {
            "text/plain": [
              "<matplotlib.legend.Legend at 0x7fe86ec50fd0>"
            ]
          },
          "metadata": {
            "tags": []
          },
          "execution_count": 38
        },
        {
          "output_type": "display_data",
          "data": {
            "image/png": "[encoded data removed]",
            "text/plain": [
              "<Figure size 432x288 with 1 Axes>"
            ]
          },
          "metadata": {
            "tags": []
          }
        }
      ]
    },
    {
      "cell_type": "code",
      "metadata": {
        "id": "olNK7ll7nRoG"
      },
      "source": [
        ""
      ],
      "execution_count": null,
      "outputs": []
    }
  ]
}