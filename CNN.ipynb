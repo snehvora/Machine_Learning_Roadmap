{
  "nbformat": 4,
  "nbformat_minor": 0,
  "metadata": {
    "colab": {
      "name": "CNN.ipynb",
      "provenance": [],
      "collapsed_sections": []
    },
    "kernelspec": {
      "name": "python3",
      "display_name": "Python 3"
    }
  },
  "cells": [
    {
      "cell_type": "code",
      "metadata": {
        "id": "CS9lzCr89ihX"
      },
      "source": [
        "import tensorflow as tf\n",
        "import matplotlib.pyplot as plt \n",
        "import numpy as np\n",
        "from tensorflow.keras.layers import Input,Dense,Dropout,Flatten,Conv2D\n",
        "from tensorflow.keras.models import Model\n"
      ],
      "execution_count": null,
      "outputs": []
    },
    {
      "cell_type": "code",
      "metadata": {
        "id": "lB5MHtgEBgSi"
      },
      "source": [
        "fashion_mnist=tf.keras.datasets.fashion_mnist\n",
        "(x_train,y_train),(x_test,y_test)=fashion_mnist.load_data()\n",
        "x_train,x_test=x_train/255,x_test/255"
      ],
      "execution_count": null,
      "outputs": []
    },
    {
      "cell_type": "code",
      "metadata": {
        "colab": {
          "base_uri": "https://localhost:8080/"
        },
        "id": "tVW0DgjUCgBg",
        "outputId": "bdfff4d3-0570-4147-93c9-11cf7c70539a"
      },
      "source": [
        "x_train=np.expand_dims(x_train,-1)\n",
        "x_test=np.expand_dims(x_test,-1)\n",
        "print(x_train.shape)"
      ],
      "execution_count": null,
      "outputs": [
        {
          "output_type": "stream",
          "text": [
            "(60000, 28, 28, 1)\n"
          ],
          "name": "stdout"
        }
      ]
    },
    {
      "cell_type": "code",
      "metadata": {
        "colab": {
          "base_uri": "https://localhost:8080/"
        },
        "id": "zaBZqqq4DOg_",
        "outputId": "e8ec6566-d6d6-4860-bb2c-f196a9a75a4f"
      },
      "source": [
        "i=Input(shape=x_train[0].shape)\n",
        "x=Conv2D(32,(3,3),strides=2,activation='relu')(i)\n",
        "x=Conv2D(64,(3,3),strides=2,activation='relu')(x)\n",
        "x=Conv2D(128,(3,3),strides=2,activation='relu')(x)\n",
        "x=Flatten()(x)\n",
        "x=Dropout(0.2)(x)\n",
        "x=Dense(512,activation='relu')(x)\n",
        "x=Dropout(0.2)(x)\n",
        "x=Dense(10,activation='softmax')(x)\n",
        "model=Model(i,x)\n",
        "\n",
        "model.compile(optimizer='adam',\n",
        "              loss='sparse_categorical_crossentropy',\n",
        "              metrics=['accuracy'])\n",
        "\n",
        "r=model.fit(x_train,y_train,validation_data=(x_test,y_test),epochs=20)"
      ],
      "execution_count": null,
      "outputs": [
        {
          "output_type": "stream",
          "text": [
            "Epoch 1/20\n",
            "1875/1875 [==============================] - 30s 16ms/step - loss: 0.6971 - accuracy: 0.7443 - val_loss: 0.4201 - val_accuracy: 0.8433\n",
            "Epoch 2/20\n",
            "1875/1875 [==============================] - 31s 16ms/step - loss: 0.3727 - accuracy: 0.8581 - val_loss: 0.3413 - val_accuracy: 0.8725\n",
            "Epoch 3/20\n",
            "1875/1875 [==============================] - 32s 17ms/step - loss: 0.3107 - accuracy: 0.8800 - val_loss: 0.3272 - val_accuracy: 0.8806\n",
            "Epoch 4/20\n",
            "1875/1875 [==============================] - 31s 16ms/step - loss: 0.2742 - accuracy: 0.8970 - val_loss: 0.2975 - val_accuracy: 0.8922\n",
            "Epoch 5/20\n",
            "1875/1875 [==============================] - 31s 16ms/step - loss: 0.2467 - accuracy: 0.9079 - val_loss: 0.2948 - val_accuracy: 0.8926\n",
            "Epoch 6/20\n",
            "1875/1875 [==============================] - 31s 16ms/step - loss: 0.2256 - accuracy: 0.9149 - val_loss: 0.3035 - val_accuracy: 0.8950\n",
            "Epoch 7/20\n",
            "1875/1875 [==============================] - 31s 17ms/step - loss: 0.2087 - accuracy: 0.9192 - val_loss: 0.3073 - val_accuracy: 0.8927\n",
            "Epoch 8/20\n",
            "1875/1875 [==============================] - 31s 17ms/step - loss: 0.1873 - accuracy: 0.9276 - val_loss: 0.3158 - val_accuracy: 0.8964\n",
            "Epoch 9/20\n",
            "1875/1875 [==============================] - 31s 17ms/step - loss: 0.1716 - accuracy: 0.9348 - val_loss: 0.3408 - val_accuracy: 0.8902\n",
            "Epoch 10/20\n",
            "1875/1875 [==============================] - 32s 17ms/step - loss: 0.1681 - accuracy: 0.9351 - val_loss: 0.3231 - val_accuracy: 0.8999\n",
            "Epoch 11/20\n",
            "1875/1875 [==============================] - 31s 17ms/step - loss: 0.1492 - accuracy: 0.9428 - val_loss: 0.3254 - val_accuracy: 0.8991\n",
            "Epoch 12/20\n",
            "1875/1875 [==============================] - 31s 17ms/step - loss: 0.1441 - accuracy: 0.9449 - val_loss: 0.3437 - val_accuracy: 0.8962\n",
            "Epoch 13/20\n",
            "1875/1875 [==============================] - 33s 18ms/step - loss: 0.1322 - accuracy: 0.9503 - val_loss: 0.3405 - val_accuracy: 0.9012\n",
            "Epoch 14/20\n",
            "1875/1875 [==============================] - 33s 18ms/step - loss: 0.1224 - accuracy: 0.9533 - val_loss: 0.3655 - val_accuracy: 0.8981\n",
            "Epoch 15/20\n",
            "1875/1875 [==============================] - 31s 17ms/step - loss: 0.1141 - accuracy: 0.9564 - val_loss: 0.3783 - val_accuracy: 0.8954\n",
            "Epoch 16/20\n",
            "1875/1875 [==============================] - 31s 17ms/step - loss: 0.1160 - accuracy: 0.9558 - val_loss: 0.3832 - val_accuracy: 0.8958\n",
            "Epoch 17/20\n",
            "1875/1875 [==============================] - 31s 17ms/step - loss: 0.1054 - accuracy: 0.9595 - val_loss: 0.3857 - val_accuracy: 0.8952\n",
            "Epoch 18/20\n",
            "1875/1875 [==============================] - 31s 17ms/step - loss: 0.1008 - accuracy: 0.9613 - val_loss: 0.3968 - val_accuracy: 0.8999\n",
            "Epoch 19/20\n",
            "1875/1875 [==============================] - 32s 17ms/step - loss: 0.1013 - accuracy: 0.9612 - val_loss: 0.4056 - val_accuracy: 0.9024\n",
            "Epoch 20/20\n",
            "1875/1875 [==============================] - 31s 17ms/step - loss: 0.0950 - accuracy: 0.9646 - val_loss: 0.4233 - val_accuracy: 0.8977\n"
          ],
          "name": "stdout"
        }
      ]
    },
    {
      "cell_type": "code",
      "metadata": {
        "colab": {
          "base_uri": "https://localhost:8080/",
          "height": 282
        },
        "id": "FXuLmgFlK0bv",
        "outputId": "c47fcea6-6572-4285-8860-0fa615a5db34"
      },
      "source": [
        "plt.plot(r.history['loss'],label='loss')\n",
        "plt.plot(r.history['val_loss'],label='val_loss')\n",
        "plt.legend()"
      ],
      "execution_count": null,
      "outputs": [
        {
          "output_type": "execute_result",
          "data": {
            "text/plain": [
              "<matplotlib.legend.Legend at 0x7f4d5afc6d68>"
            ]
          },
          "metadata": {
            "tags": []
          },
          "execution_count": 28
        },
        {
          "output_type": "display_data",
          "data": {
            "image/png": "[encoded data removed]",
            "text/plain": [
              "<Figure size 432x288 with 1 Axes>"
            ]
          },
          "metadata": {
            "tags": [],
            "needs_background": "light"
          }
        }
      ]
    },
    {
      "cell_type": "code",
      "metadata": {
        "colab": {
          "base_uri": "https://localhost:8080/",
          "height": 282
        },
        "id": "E-O0A8ToN0uI",
        "outputId": "7e4be8ca-40ce-4ece-d9f6-0c97e7958eda"
      },
      "source": [
        "plt.plot(r.history['accuracy'],label='accuracy')\n",
        "plt.plot(r.history['val_accuracy'],label='val_accuracy')\n",
        "plt.legend()"
      ],
      "execution_count": null,
      "outputs": [
        {
          "output_type": "execute_result",
          "data": {
            "text/plain": [
              "<matplotlib.legend.Legend at 0x7f4d5afa9208>"
            ]
          },
          "metadata": {
            "tags": []
          },
          "execution_count": 29
        },
        {
          "output_type": "display_data",
          "data": {
            "image/png": "[encoded data removed]",
            "text/plain": [
              "<Figure size 432x288 with 1 Axes>"
            ]
          },
          "metadata": {
            "tags": [],
            "needs_background": "light"
          }
        }
      ]
    },
    {
      "cell_type": "code",
      "metadata": {
        "id": "4RmDjkJjVEDb"
      },
      "source": [
        ""
      ],
      "execution_count": null,
      "outputs": []
    }
  ]
}