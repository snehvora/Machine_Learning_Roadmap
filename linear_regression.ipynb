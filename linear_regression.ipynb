{
  "nbformat": 4,
  "nbformat_minor": 0,
  "metadata": {
    "colab": {
      "name": "linear_regression.ipynb",
      "provenance": []
    },
    "kernelspec": {
      "name": "python3",
      "display_name": "Python 3"
    }
  },
  "cells": [
    {
      "cell_type": "code",
      "metadata": {
        "colab": {
          "base_uri": "https://localhost:8080/",
          "height": 314
        },
        "id": "7U6X89Dk_hFI",
        "outputId": "b468e5f3-5234-48e8-c018-427fc39c076b"
      },
      "source": [
        "import pandas as pd\n",
        "import numpy as np\n",
        "import matplotlib.pyplot as plt\n",
        "import tensorflow as tf\n",
        "\n",
        "\n",
        "\n",
        "data=pd.DataFrame({'A':[100,257,300,410,500,122,200,456,237],'B':[10,9,17,15,16,24,11,66,35]})\n",
        "data"
      ],
      "execution_count": null,
      "outputs": [
        {
          "output_type": "execute_result",
          "data": {
            "text/html": [
              "<div>\n",
              "<style scoped>\n",
              "    .dataframe tbody tr th:only-of-type {\n",
              "        vertical-align: middle;\n",
              "    }\n",
              "\n",
              "    .dataframe tbody tr th {\n",
              "        vertical-align: top;\n",
              "    }\n",
              "\n",
              "    .dataframe thead th {\n",
              "        text-align: right;\n",
              "    }\n",
              "</style>\n",
              "<table border=\"1\" class=\"dataframe\">\n",
              "  <thead>\n",
              "    <tr style=\"text-align: right;\">\n",
              "      <th></th>\n",
              "      <th>A</th>\n",
              "      <th>B</th>\n",
              "    </tr>\n",
              "  </thead>\n",
              "  <tbody>\n",
              "    <tr>\n",
              "      <th>0</th>\n",
              "      <td>100</td>\n",
              "      <td>10</td>\n",
              "    </tr>\n",
              "    <tr>\n",
              "      <th>1</th>\n",
              "      <td>257</td>\n",
              "      <td>9</td>\n",
              "    </tr>\n",
              "    <tr>\n",
              "      <th>2</th>\n",
              "      <td>300</td>\n",
              "      <td>17</td>\n",
              "    </tr>\n",
              "    <tr>\n",
              "      <th>3</th>\n",
              "      <td>410</td>\n",
              "      <td>15</td>\n",
              "    </tr>\n",
              "    <tr>\n",
              "      <th>4</th>\n",
              "      <td>500</td>\n",
              "      <td>16</td>\n",
              "    </tr>\n",
              "    <tr>\n",
              "      <th>5</th>\n",
              "      <td>122</td>\n",
              "      <td>24</td>\n",
              "    </tr>\n",
              "    <tr>\n",
              "      <th>6</th>\n",
              "      <td>200</td>\n",
              "      <td>11</td>\n",
              "    </tr>\n",
              "    <tr>\n",
              "      <th>7</th>\n",
              "      <td>456</td>\n",
              "      <td>66</td>\n",
              "    </tr>\n",
              "    <tr>\n",
              "      <th>8</th>\n",
              "      <td>237</td>\n",
              "      <td>35</td>\n",
              "    </tr>\n",
              "  </tbody>\n",
              "</table>\n",
              "</div>"
            ],
            "text/plain": [
              "     A   B\n",
              "0  100  10\n",
              "1  257   9\n",
              "2  300  17\n",
              "3  410  15\n",
              "4  500  16\n",
              "5  122  24\n",
              "6  200  11\n",
              "7  456  66\n",
              "8  237  35"
            ]
          },
          "metadata": {
            "tags": []
          },
          "execution_count": 1
        }
      ]
    },
    {
      "cell_type": "code",
      "metadata": {
        "colab": {
          "base_uri": "https://localhost:8080/"
        },
        "id": "PpORly5XCNjL",
        "outputId": "f756781c-e2e2-407c-949b-1ce7e137faa9"
      },
      "source": [
        "data=data.values\n",
        "data"
      ],
      "execution_count": null,
      "outputs": [
        {
          "output_type": "execute_result",
          "data": {
            "text/plain": [
              "array([[100,  10],\n",
              "       [257,   9],\n",
              "       [300,  17],\n",
              "       [410,  15],\n",
              "       [500,  16],\n",
              "       [122,  24],\n",
              "       [200,  11],\n",
              "       [456,  66],\n",
              "       [237,  35]])"
            ]
          },
          "metadata": {
            "tags": []
          },
          "execution_count": 2
        }
      ]
    },
    {
      "cell_type": "code",
      "metadata": {
        "id": "fSbalbfDFkqg"
      },
      "source": [
        "X=data[:,0]\n",
        "Y=data[:,1]"
      ],
      "execution_count": null,
      "outputs": []
    },
    {
      "cell_type": "code",
      "metadata": {
        "colab": {
          "base_uri": "https://localhost:8080/",
          "height": 282
        },
        "id": "HHjqPVZMGJ3P",
        "outputId": "09991390-d8e6-4e88-ba38-7f0df5f1bf92"
      },
      "source": [
        "plt.scatter(X,Y)"
      ],
      "execution_count": null,
      "outputs": [
        {
          "output_type": "execute_result",
          "data": {
            "text/plain": [
              "<matplotlib.collections.PathCollection at 0x7f34ff38b490>"
            ]
          },
          "metadata": {
            "tags": []
          },
          "execution_count": 4
        },
        {
          "output_type": "display_data",
          "data": {
            "image/png": "[encoded data removed]",
            "text/plain": [
              "<Figure size 432x288 with 1 Axes>"
            ]
          },
          "metadata": {
            "tags": [],
            "needs_background": "light"
          }
        }
      ]
    },
    {
      "cell_type": "code",
      "metadata": {
        "colab": {
          "base_uri": "https://localhost:8080/"
        },
        "id": "dAnXhI-PG9Z8",
        "outputId": "f2b8f759-d0bb-48e0-bc9c-9a43ca69f111"
      },
      "source": [
        "#scale data of 1-D\n",
        "#you can scale data in StandardScaler() but requirenment is 2-D\n",
        "Y=Y-Y.mean()\n",
        "print(Y)"
      ],
      "execution_count": null,
      "outputs": [
        {
          "output_type": "stream",
          "text": [
            "[-12.55555556 -13.55555556  -5.55555556  -7.55555556  -6.55555556\n",
            "   1.44444444 -11.55555556  43.44444444  12.44444444]\n"
          ],
          "name": "stdout"
        }
      ]
    },
    {
      "cell_type": "code",
      "metadata": {
        "colab": {
          "base_uri": "https://localhost:8080/"
        },
        "id": "RlNWODlkf94M",
        "outputId": "04cf71a7-328c-4a17-8679-4cc196f7da88"
      },
      "source": [
        "model = tf.keras.models.Sequential([tf.keras.layers.Input(shape=(1,)),tf.keras.layers.Dense(1)])\n",
        "\n",
        "model.compile(optimizer=tf.keras.optimizers.SGD(0.001,0.9),loss='mse')\n",
        "\n",
        "def schedule(epoch,lr):\n",
        "  if epoch<=5:\n",
        "    return 0.00001\n",
        "  return 0.001\n",
        "\n",
        "scheduler=tf.keras.callbacks.LearningRateScheduler(schedule)\n",
        "\n",
        "r=model.fit(X,Y,epochs=25,callbacks=[scheduler])"
      ],
      "execution_count": null,
      "outputs": [
        {
          "output_type": "stream",
          "text": [
            "Epoch 1/25\n",
            "1/1 [==============================] - 0s 427ms/step - loss: 88002.2969\n",
            "Epoch 2/25\n",
            "1/1 [==============================] - 0s 4ms/step - loss: 89232.8203\n",
            "Epoch 3/25\n",
            "1/1 [==============================] - 0s 4ms/step - loss: 55344.0703\n",
            "Epoch 4/25\n",
            "1/1 [==============================] - 0s 4ms/step - loss: 86440.0234\n",
            "Epoch 5/25\n",
            "1/1 [==============================] - 0s 3ms/step - loss: 32605.9062\n",
            "Epoch 6/25\n",
            "1/1 [==============================] - 0s 3ms/step - loss: 80602.8828\n",
            "Epoch 7/25\n",
            "1/1 [==============================] - 0s 6ms/step - loss: 17572.9316\n",
            "Epoch 8/25\n",
            "1/1 [==============================] - 0s 6ms/step - loss: 696561152.0000\n",
            "Epoch 9/25\n",
            "1/1 [==============================] - 0s 4ms/step - loss: 27527569473536.0000\n",
            "Epoch 10/25\n",
            "1/1 [==============================] - 0s 3ms/step - loss: 1087868555552096256.0000\n",
            "Epoch 11/25\n",
            "1/1 [==============================] - 0s 3ms/step - loss: 42991726834448571826176.0000\n",
            "Epoch 12/25\n",
            "1/1 [==============================] - 0s 3ms/step - loss: 1699000616994823422164860928.0000\n",
            "Epoch 13/25\n",
            "1/1 [==============================] - 0s 4ms/step - loss: 67143217765442430843377541971968.0000\n",
            "Epoch 14/25\n",
            "1/1 [==============================] - 0s 3ms/step - loss: 2653448137873630125557001394547851264.0000\n",
            "Epoch 15/25\n",
            "1/1 [==============================] - 0s 3ms/step - loss: inf\n",
            "Epoch 16/25\n",
            "1/1 [==============================] - 0s 3ms/step - loss: inf\n",
            "Epoch 17/25\n",
            "1/1 [==============================] - 0s 4ms/step - loss: inf\n",
            "Epoch 18/25\n",
            "1/1 [==============================] - 0s 4ms/step - loss: inf\n",
            "Epoch 19/25\n",
            "1/1 [==============================] - 0s 3ms/step - loss: inf\n",
            "Epoch 20/25\n",
            "1/1 [==============================] - 0s 3ms/step - loss: inf\n",
            "Epoch 21/25\n",
            "1/1 [==============================] - 0s 4ms/step - loss: inf\n",
            "Epoch 22/25\n",
            "1/1 [==============================] - 0s 4ms/step - loss: inf\n",
            "Epoch 23/25\n",
            "1/1 [==============================] - 0s 4ms/step - loss: inf\n",
            "Epoch 24/25\n",
            "1/1 [==============================] - 0s 4ms/step - loss: nan\n",
            "Epoch 25/25\n",
            "1/1 [==============================] - 0s 4ms/step - loss: nan\n"
          ],
          "name": "stdout"
        }
      ]
    },
    {
      "cell_type": "code",
      "metadata": {
        "colab": {
          "base_uri": "https://localhost:8080/",
          "height": 293
        },
        "id": "YCS5JnmzioCa",
        "outputId": "e952f2cf-78b5-440c-e7a2-04e2537957c3"
      },
      "source": [
        "plt.plot(r.history['loss'],label='loss')"
      ],
      "execution_count": null,
      "outputs": [
        {
          "output_type": "execute_result",
          "data": {
            "text/plain": [
              "[<matplotlib.lines.Line2D at 0x7f34fa5b3150>]"
            ]
          },
          "metadata": {
            "tags": []
          },
          "execution_count": 7
        },
        {
          "output_type": "display_data",
          "data": {
            "image/png": "[encoded data removed]",
            "text/plain": [
              "<Figure size 432x288 with 1 Axes>"
            ]
          },
          "metadata": {
            "tags": [],
            "needs_background": "light"
          }
        }
      ]
    },
    {
      "cell_type": "code",
      "metadata": {
        "colab": {
          "base_uri": "https://localhost:8080/"
        },
        "id": "oAAkeScZixkf",
        "outputId": "5fe486b7-3803-4757-9488-7aca762b314d"
      },
      "source": [
        "print(model.layers)"
      ],
      "execution_count": null,
      "outputs": [
        {
          "output_type": "stream",
          "text": [
            "[<tensorflow.python.keras.layers.core.Dense object at 0x7f35391fbd10>]\n"
          ],
          "name": "stdout"
        }
      ]
    },
    {
      "cell_type": "code",
      "metadata": {
        "colab": {
          "base_uri": "https://localhost:8080/"
        },
        "id": "RUNG1zfD0yNE",
        "outputId": "441fda9c-f983-4d55-cb5a-e1f27c9598fc"
      },
      "source": [
        "print(model.layers[0].get_weights())"
      ],
      "execution_count": null,
      "outputs": [
        {
          "output_type": "stream",
          "text": [
            "[array([[nan]], dtype=float32), array([nan], dtype=float32)]\n"
          ],
          "name": "stdout"
        }
      ]
    },
    {
      "cell_type": "code",
      "metadata": {
        "colab": {
          "base_uri": "https://localhost:8080/"
        },
        "id": "kyCSMTB71GNT",
        "outputId": "3dc32416-9c42-413d-8e4b-44bd830327e0"
      },
      "source": [
        "print(model.layers[0].get_weights()[0][0,0]) #slope of the line is"
      ],
      "execution_count": null,
      "outputs": [
        {
          "output_type": "stream",
          "text": [
            "nan\n"
          ],
          "name": "stdout"
        }
      ]
    },
    {
      "cell_type": "code",
      "metadata": {
        "id": "gGS1WW6S1WeQ"
      },
      "source": [
        "#prediction\n",
        "yhat=model.predict(X).flatten()"
      ],
      "execution_count": null,
      "outputs": []
    },
    {
      "cell_type": "code",
      "metadata": {
        "colab": {
          "base_uri": "https://localhost:8080/",
          "height": 282
        },
        "id": "TMoU6wr2YD_g",
        "outputId": "536fa472-c714-4cc9-f290-9277eecafa81"
      },
      "source": [
        "plt.scatter(X,Y)\n",
        "plt.sc(X,yhat)"
      ],
      "execution_count": null,
      "outputs": [
        {
          "output_type": "execute_result",
          "data": {
            "text/plain": [
              "[<matplotlib.lines.Line2D at 0x7f34fa53f4d0>]"
            ]
          },
          "metadata": {
            "tags": []
          },
          "execution_count": 12
        },
        {
          "output_type": "display_data",
          "data": {
            "image/png": "[encoded data removed]",
            "text/plain": [
              "<Figure size 432x288 with 1 Axes>"
            ]
          },
          "metadata": {
            "tags": [],
            "needs_background": "light"
          }
        }
      ]
    },
    {
      "cell_type": "code",
      "metadata": {
        "colab": {
          "base_uri": "https://localhost:8080/"
        },
        "id": "_9F_hSg0YPdu",
        "outputId": "c4264e4e-5d92-41e9-b3a4-fd6ecdcae2bc"
      },
      "source": [
        "w,b=model.layers[0].get_weights()\n",
        "print(w)\n",
        "print(b)"
      ],
      "execution_count": null,
      "outputs": [
        {
          "output_type": "stream",
          "text": [
            "[[-8.4370886e+27]]\n",
            "[-2.6430454e+18]\n"
          ],
          "name": "stdout"
        }
      ]
    },
    {
      "cell_type": "code",
      "metadata": {
        "colab": {
          "base_uri": "https://localhost:8080/"
        },
        "id": "Kmnu2buIcMIF",
        "outputId": "e2edca4b-5ce8-47bf-e69c-c2adc83f7ec0"
      },
      "source": [
        "X=X.reshape(-1,1)\n",
        "yhat2=(X.dot(w)+b).flatten()\n",
        "np.allclose(yhat,yhat2)"
      ],
      "execution_count": null,
      "outputs": [
        {
          "output_type": "execute_result",
          "data": {
            "text/plain": [
              "True"
            ]
          },
          "metadata": {
            "tags": []
          },
          "execution_count": 34
        }
      ]
    },
    {
      "cell_type": "code",
      "metadata": {
        "colab": {
          "base_uri": "https://localhost:8080/"
        },
        "id": "zUeJS2IcdyZa",
        "outputId": "75649ac5-a2ef-4d37-d311-ecce8c096b17"
      },
      "source": [
        "yhat"
      ],
      "execution_count": null,
      "outputs": [
        {
          "output_type": "execute_result",
          "data": {
            "text/plain": [
              "array([ 1.5767980e+30,  2.5217520e+29, -1.1061960e+29, -1.0386994e+30,\n",
              "       -1.7980373e+30,  1.3911821e+30,  7.3308922e+29, -1.4268054e+30,\n",
              "        4.2091699e+29], dtype=float32)"
            ]
          },
          "metadata": {
            "tags": []
          },
          "execution_count": 35
        }
      ]
    },
    {
      "cell_type": "code",
      "metadata": {
        "id": "X1D2eJOfdbN7"
      },
      "source": [
        ""
      ],
      "execution_count": null,
      "outputs": []
    }
  ]
}