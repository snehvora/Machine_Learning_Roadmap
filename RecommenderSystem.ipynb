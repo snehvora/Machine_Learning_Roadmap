{
  "nbformat": 4,
  "nbformat_minor": 0,
  "metadata": {
    "colab": {
      "name": "RecommenderSystem.ipynb",
      "provenance": []
    },
    "kernelspec": {
      "name": "python3",
      "display_name": "Python 3"
    }
  },
  "cells": [
    {
      "cell_type": "code",
      "metadata": {
        "colab": {
          "base_uri": "https://localhost:8080/"
        },
        "id": "nH_9PE7tTVHO",
        "outputId": "a0549a6e-4cd5-4f68-8cdc-40ca68128f4b"
      },
      "source": [
        "!wget -nc http://files.grouplens.org/datasets/movielens/ml-20m.zip"
      ],
      "execution_count": null,
      "outputs": [
        {
          "output_type": "stream",
          "text": [
            "--2021-03-03 04:24:06--  http://files.grouplens.org/datasets/movielens/ml-20m.zip\n",
            "Resolving files.grouplens.org (files.grouplens.org)... 128.101.65.152\n",
            "Connecting to files.grouplens.org (files.grouplens.org)|128.101.65.152|:80... connected.\n",
            "HTTP request sent, awaiting response... 200 OK\n",
            "Length: 198702078 (189M) [application/zip]\n",
            "Saving to: ‘ml-20m.zip’\n",
            "\n",
            "ml-20m.zip          100%[===================>] 189.50M  26.9MB/s    in 7.8s    \n",
            "\n",
            "2021-03-03 04:24:14 (24.4 MB/s) - ‘ml-20m.zip’ saved [198702078/198702078]\n",
            "\n"
          ],
          "name": "stdout"
        }
      ]
    },
    {
      "cell_type": "code",
      "metadata": {
        "colab": {
          "base_uri": "https://localhost:8080/"
        },
        "id": "90YEpGMyU-9I",
        "outputId": "23e87898-f11a-48b6-9a93-26509a783c22"
      },
      "source": [
        "!unzip -n ml-20m.zip"
      ],
      "execution_count": null,
      "outputs": [
        {
          "output_type": "stream",
          "text": [
            "Archive:  ml-20m.zip\n",
            "   creating: ml-20m/\n",
            "  inflating: ml-20m/genome-scores.csv  \n",
            "  inflating: ml-20m/genome-tags.csv  \n",
            "  inflating: ml-20m/links.csv        \n",
            "  inflating: ml-20m/movies.csv       \n",
            "  inflating: ml-20m/ratings.csv      \n",
            "  inflating: ml-20m/README.txt       \n",
            "  inflating: ml-20m/tags.csv         \n"
          ],
          "name": "stdout"
        }
      ]
    },
    {
      "cell_type": "code",
      "metadata": {
        "colab": {
          "base_uri": "https://localhost:8080/",
          "height": 195
        },
        "id": "oJRs25SqVRWi",
        "outputId": "7f7cebdb-7637-4061-fc0d-14ed54c311fe"
      },
      "source": [
        "import pandas as pd\n",
        "df=pd.read_csv('ml-20m/ratings.csv')\n",
        "df.head()"
      ],
      "execution_count": null,
      "outputs": [
        {
          "output_type": "execute_result",
          "data": {
            "text/html": [
              "<div>\n",
              "<style scoped>\n",
              "    .dataframe tbody tr th:only-of-type {\n",
              "        vertical-align: middle;\n",
              "    }\n",
              "\n",
              "    .dataframe tbody tr th {\n",
              "        vertical-align: top;\n",
              "    }\n",
              "\n",
              "    .dataframe thead th {\n",
              "        text-align: right;\n",
              "    }\n",
              "</style>\n",
              "<table border=\"1\" class=\"dataframe\">\n",
              "  <thead>\n",
              "    <tr style=\"text-align: right;\">\n",
              "      <th></th>\n",
              "      <th>userId</th>\n",
              "      <th>movieId</th>\n",
              "      <th>rating</th>\n",
              "      <th>timestamp</th>\n",
              "    </tr>\n",
              "  </thead>\n",
              "  <tbody>\n",
              "    <tr>\n",
              "      <th>0</th>\n",
              "      <td>1</td>\n",
              "      <td>2</td>\n",
              "      <td>3.5</td>\n",
              "      <td>1112486027</td>\n",
              "    </tr>\n",
              "    <tr>\n",
              "      <th>1</th>\n",
              "      <td>1</td>\n",
              "      <td>29</td>\n",
              "      <td>3.5</td>\n",
              "      <td>1112484676</td>\n",
              "    </tr>\n",
              "    <tr>\n",
              "      <th>2</th>\n",
              "      <td>1</td>\n",
              "      <td>32</td>\n",
              "      <td>3.5</td>\n",
              "      <td>1112484819</td>\n",
              "    </tr>\n",
              "    <tr>\n",
              "      <th>3</th>\n",
              "      <td>1</td>\n",
              "      <td>47</td>\n",
              "      <td>3.5</td>\n",
              "      <td>1112484727</td>\n",
              "    </tr>\n",
              "    <tr>\n",
              "      <th>4</th>\n",
              "      <td>1</td>\n",
              "      <td>50</td>\n",
              "      <td>3.5</td>\n",
              "      <td>1112484580</td>\n",
              "    </tr>\n",
              "  </tbody>\n",
              "</table>\n",
              "</div>"
            ],
            "text/plain": [
              "   userId  movieId  rating   timestamp\n",
              "0       1        2     3.5  1112486027\n",
              "1       1       29     3.5  1112484676\n",
              "2       1       32     3.5  1112484819\n",
              "3       1       47     3.5  1112484727\n",
              "4       1       50     3.5  1112484580"
            ]
          },
          "metadata": {
            "tags": []
          },
          "execution_count": 22
        }
      ]
    },
    {
      "cell_type": "code",
      "metadata": {
        "id": "Kn8WzwAcVg_P"
      },
      "source": [
        "import tensorflow as tf\n",
        "from tensorflow.keras.layers import Embedding,Input,Dense,Concatenate,Flatten,Dropout\n",
        "from tensorflow.keras.models import Model\n",
        "from tensorflow.keras.optimizers import SGD\n",
        "import numpy as np\n",
        "\n",
        "from sklearn.utils import shuffle\n",
        " "
      ],
      "execution_count": null,
      "outputs": []
    },
    {
      "cell_type": "code",
      "metadata": {
        "colab": {
          "base_uri": "https://localhost:8080/",
          "height": 195
        },
        "id": "OQGE9tL0Wqrk",
        "outputId": "cfb0d685-f5f9-4e9d-9087-be0794a2c6ee"
      },
      "source": [
        "df.userId=pd.Categorical(df.userId)\n",
        "df['new_user_id']=df.userId.cat.codes\n",
        "\n",
        "df.movieId=pd.Categorical(df.movieId)\n",
        "df['new_movie_id']=df.movieId.cat.codes\n",
        "\n",
        "df.head()"
      ],
      "execution_count": null,
      "outputs": [
        {
          "output_type": "execute_result",
          "data": {
            "text/html": [
              "<div>\n",
              "<style scoped>\n",
              "    .dataframe tbody tr th:only-of-type {\n",
              "        vertical-align: middle;\n",
              "    }\n",
              "\n",
              "    .dataframe tbody tr th {\n",
              "        vertical-align: top;\n",
              "    }\n",
              "\n",
              "    .dataframe thead th {\n",
              "        text-align: right;\n",
              "    }\n",
              "</style>\n",
              "<table border=\"1\" class=\"dataframe\">\n",
              "  <thead>\n",
              "    <tr style=\"text-align: right;\">\n",
              "      <th></th>\n",
              "      <th>userId</th>\n",
              "      <th>movieId</th>\n",
              "      <th>rating</th>\n",
              "      <th>timestamp</th>\n",
              "      <th>new_user_id</th>\n",
              "      <th>new_movie_id</th>\n",
              "    </tr>\n",
              "  </thead>\n",
              "  <tbody>\n",
              "    <tr>\n",
              "      <th>0</th>\n",
              "      <td>1</td>\n",
              "      <td>2</td>\n",
              "      <td>3.5</td>\n",
              "      <td>1112486027</td>\n",
              "      <td>0</td>\n",
              "      <td>1</td>\n",
              "    </tr>\n",
              "    <tr>\n",
              "      <th>1</th>\n",
              "      <td>1</td>\n",
              "      <td>29</td>\n",
              "      <td>3.5</td>\n",
              "      <td>1112484676</td>\n",
              "      <td>0</td>\n",
              "      <td>28</td>\n",
              "    </tr>\n",
              "    <tr>\n",
              "      <th>2</th>\n",
              "      <td>1</td>\n",
              "      <td>32</td>\n",
              "      <td>3.5</td>\n",
              "      <td>1112484819</td>\n",
              "      <td>0</td>\n",
              "      <td>31</td>\n",
              "    </tr>\n",
              "    <tr>\n",
              "      <th>3</th>\n",
              "      <td>1</td>\n",
              "      <td>47</td>\n",
              "      <td>3.5</td>\n",
              "      <td>1112484727</td>\n",
              "      <td>0</td>\n",
              "      <td>46</td>\n",
              "    </tr>\n",
              "    <tr>\n",
              "      <th>4</th>\n",
              "      <td>1</td>\n",
              "      <td>50</td>\n",
              "      <td>3.5</td>\n",
              "      <td>1112484580</td>\n",
              "      <td>0</td>\n",
              "      <td>49</td>\n",
              "    </tr>\n",
              "  </tbody>\n",
              "</table>\n",
              "</div>"
            ],
            "text/plain": [
              "  userId movieId  rating   timestamp  new_user_id  new_movie_id\n",
              "0      1       2     3.5  1112486027            0             1\n",
              "1      1      29     3.5  1112484676            0            28\n",
              "2      1      32     3.5  1112484819            0            31\n",
              "3      1      47     3.5  1112484727            0            46\n",
              "4      1      50     3.5  1112484580            0            49"
            ]
          },
          "metadata": {
            "tags": []
          },
          "execution_count": 24
        }
      ]
    },
    {
      "cell_type": "code",
      "metadata": {
        "id": "3uRHhXUDXFWd"
      },
      "source": [
        "new_user_id=df['new_user_id'].values\n",
        "new_movie_id=df['new_movie_id'].values\n",
        "ratings=df['rating'].values"
      ],
      "execution_count": null,
      "outputs": []
    },
    {
      "cell_type": "code",
      "metadata": {
        "colab": {
          "base_uri": "https://localhost:8080/"
        },
        "id": "ZCXbLUkVYI_M",
        "outputId": "8e5f5fee-78be-4ad9-d445-e9e87448c297"
      },
      "source": [
        "print(new_movie_id.shape)\n",
        "print(new_user_id.shape)\n",
        "print(ratings.shape)\n",
        "U=len(set(new_user_id))\n",
        "M=len(set(new_movie_id))\n",
        "K=10"
      ],
      "execution_count": null,
      "outputs": [
        {
          "output_type": "stream",
          "text": [
            "(20000263,)\n",
            "(20000263,)\n",
            "(20000263,)\n"
          ],
          "name": "stdout"
        }
      ]
    },
    {
      "cell_type": "code",
      "metadata": {
        "colab": {
          "base_uri": "https://localhost:8080/"
        },
        "id": "7pHJ1EruYRi_",
        "outputId": "759abdf1-f71c-4ab8-d6eb-38cd62469ff1"
      },
      "source": [
        "u=Input(shape=(1,))\n",
        "m=Input(shape=(1,))\n",
        "u_emb=Embedding(U,K)(u)\n",
        "m_emb=Embedding(M,K)(m)\n",
        "u_flat=Flatten()(u_emb)\n",
        "m_flat=Flatten()(m_emb)\n",
        "x=Concatenate()([u_flat,m_flat])\n",
        "x=Dense(1024,activation='relu')(x)\n",
        "x=Dropout(0.2)(x)\n",
        "x=Dense(512,activation='relu')(x)\n",
        "x=Dropout(0.2)(x)\n",
        "x=Dense(1)(x)\n",
        "model=Model(inputs=[u,m],outputs=x)\n",
        "\n",
        "new_movie_id,new_user_id,ratings=shuffle(new_movie_id,new_user_id,ratings)\n",
        "N=((len(new_user_id))*80)//100\n",
        "movie_train=new_movie_id[:N]\n",
        "user_train=new_user_id[:N]\n",
        "ratings_train=ratings[:N]\n",
        "\n",
        "\n",
        "movie_test=new_movie_id[N:]\n",
        "user_test=new_user_id[N:]\n",
        "ratings_test=ratings[N:]\n",
        "\n",
        "#Center the output data\n",
        "avg_ratings=ratings_train.mean()\n",
        "ratings_train=ratings_train-avg_ratings\n",
        "ratings_test=ratings_test-avg_ratings\n",
        "\n",
        "model.compile(loss='mse',\n",
        "              optimizer=SGD(lr=0.05,momentum=0.9))\n",
        "\n",
        "r=model.fit(x=[user_train,movie_train],\n",
        "            y=ratings_train,\n",
        "            validation_data=([user_test,movie_test],ratings_test),\n",
        "            batch_size=1024,\n",
        "            epochs=50)"
      ],
      "execution_count": null,
      "outputs": [
        {
          "output_type": "stream",
          "text": [
            "Epoch 1/50\n",
            "15626/15626 [==============================] - 1429s 91ms/step - loss: 0.8543 - val_loss: 0.7372\n",
            "Epoch 2/50\n",
            "15626/15626 [==============================] - 1431s 92ms/step - loss: 0.7196 - val_loss: 0.7038\n",
            "Epoch 3/50\n",
            "15626/15626 [==============================] - 1428s 91ms/step - loss: 0.6901 - val_loss: 0.6979\n",
            "Epoch 4/50\n",
            "15626/15626 [==============================] - 1418s 91ms/step - loss: 0.6783 - val_loss: 0.6881\n",
            "Epoch 5/50\n",
            "15626/15626 [==============================] - 1400s 90ms/step - loss: 0.6663 - val_loss: 0.6781\n",
            "Epoch 6/50\n",
            "15626/15626 [==============================] - 1395s 89ms/step - loss: 0.6557 - val_loss: 0.6732\n",
            "Epoch 7/50\n",
            "15626/15626 [==============================] - 1392s 89ms/step - loss: 0.6485 - val_loss: 0.6745\n",
            "Epoch 8/50\n",
            "15626/15626 [==============================] - 1393s 89ms/step - loss: 0.6418 - val_loss: 0.6683\n",
            "Epoch 9/50\n",
            "15626/15626 [==============================] - 1393s 89ms/step - loss: 0.6346 - val_loss: 0.6603\n",
            "Epoch 10/50\n",
            "15626/15626 [==============================] - 1408s 90ms/step - loss: 0.6227 - val_loss: 0.6508\n",
            "Epoch 11/50\n",
            "15626/15626 [==============================] - 1404s 90ms/step - loss: 0.6090 - val_loss: 0.6448\n",
            "Epoch 12/50\n",
            "15626/15626 [==============================] - 1393s 89ms/step - loss: 0.5998 - val_loss: 0.6419\n",
            "Epoch 13/50\n",
            "15626/15626 [==============================] - 1396s 89ms/step - loss: 0.5915 - val_loss: 0.6408\n",
            "Epoch 14/50\n",
            "15626/15626 [==============================] - 1394s 89ms/step - loss: 0.5860 - val_loss: 0.6401\n",
            "Epoch 15/50\n",
            "15626/15626 [==============================] - 1396s 89ms/step - loss: 0.5799 - val_loss: 0.6370\n",
            "Epoch 16/50\n",
            "15626/15626 [==============================] - 1409s 90ms/step - loss: 0.5747 - val_loss: 0.6376\n",
            "Epoch 17/50\n",
            "15626/15626 [==============================] - 1418s 91ms/step - loss: 0.5707 - val_loss: 0.6365\n",
            "Epoch 18/50\n",
            "15626/15626 [==============================] - 1413s 90ms/step - loss: 0.5657 - val_loss: 0.6365\n",
            "Epoch 19/50\n",
            "15626/15626 [==============================] - 1418s 91ms/step - loss: 0.5605 - val_loss: 0.6365\n",
            "Epoch 20/50\n",
            "15626/15626 [==============================] - 1420s 91ms/step - loss: 0.5559 - val_loss: 0.6356\n",
            "Epoch 21/50\n",
            "15626/15626 [==============================] - 1398s 89ms/step - loss: 0.5523 - val_loss: 0.6348\n",
            "Epoch 22/50\n",
            "15626/15626 [==============================] - 1407s 90ms/step - loss: 0.5482 - val_loss: 0.6363\n",
            "Epoch 23/50\n",
            "15626/15626 [==============================] - 1414s 91ms/step - loss: 0.5453 - val_loss: 0.6329\n",
            "Epoch 24/50\n",
            "15626/15626 [==============================] - 1418s 91ms/step - loss: 0.5424 - val_loss: 0.6368\n",
            "Epoch 25/50\n",
            "12562/15626 [=======================>......] - ETA: 4:25 - loss: 0.5383"
          ],
          "name": "stdout"
        }
      ]
    },
    {
      "cell_type": "code",
      "metadata": {
        "id": "ZYFox4yhi9yM"
      },
      "source": [
        ""
      ],
      "execution_count": null,
      "outputs": []
    }
  ]
}